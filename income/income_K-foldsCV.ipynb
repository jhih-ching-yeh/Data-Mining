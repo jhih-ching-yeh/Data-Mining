{
 "cells": [
  {
   "cell_type": "code",
   "execution_count": 10,
   "metadata": {},
   "outputs": [],
   "source": [
    "import numpy as np\n",
    "import pandas as pd"
   ]
  },
  {
   "cell_type": "code",
   "execution_count": 11,
   "metadata": {},
   "outputs": [],
   "source": [
    "#character-deaths.csv\n",
    "test = pd.read_csv(r\"D:\\data mining\\HW2\\HW2data.csv\")\n",
    "#把空值以0替代\n",
    "test = test.fillna(0)"
   ]
  },
  {
   "cell_type": "code",
   "execution_count": 12,
   "metadata": {},
   "outputs": [],
   "source": [
    "#income欄位 \">50K\"轉成1，\"<=50K\"為0\n",
    "test.loc[test[\"income\"] == \" >50K\", \"income\"] = 1\n",
    "test.loc[test[\"income\"] == \" <=50K\", \"income\"] = 0"
   ]
  },
  {
   "cell_type": "code",
   "execution_count": 13,
   "metadata": {
    "scrolled": true
   },
   "outputs": [],
   "source": [
    "#dummy code\n",
    "#workclass\n",
    "test.loc[test[\"workclass\"] == \" Federal-gov\", \"workclass\"] = 0\n",
    "test.loc[test[\"workclass\"] == \" Local-gov\", \"workclass\"] = 1\n",
    "test.loc[test[\"workclass\"] == \" Never-worked\", \"workclass\"] = 2\n",
    "test.loc[test[\"workclass\"] == \" Private\", \"workclass\"] = 3\n",
    "test.loc[test[\"workclass\"] == \" Self-emp-inc\", \"workclass\"] = 4\n",
    "test.loc[test[\"workclass\"] == \" Self-emp-not-inc\", \"workclass\"] = 5\n",
    "test.loc[test[\"workclass\"] == \" State-gov\", \"workclass\"] = 6\n",
    "test.loc[test[\"workclass\"] == \" Without-pay\", \"workclass\"] = 7\n",
    "test.loc[test[\"workclass\"] == \" ?\", \"workclass\"] = 8"
   ]
  },
  {
   "cell_type": "code",
   "execution_count": 14,
   "metadata": {},
   "outputs": [],
   "source": [
    "#marital_status\n",
    "test.loc[test[\"marital_status\"] == \" Divorced\", \"marital_status\"] = 0\n",
    "test.loc[test[\"marital_status\"] == \" Married-AF-spouse\", \"marital_status\"] = 1\n",
    "test.loc[test[\"marital_status\"] == \" Married-civ-spouse\", \"marital_status\"] = 2\n",
    "test.loc[test[\"marital_status\"] == \" Married-spouse-absent\", \"marital_status\"] = 3\n",
    "test.loc[test[\"marital_status\"] == \" Separated\", \"marital_status\"] = 4\n",
    "test.loc[test[\"marital_status\"] == \" Widowed\", \"marital_status\"] = 5\n",
    "test.loc[test[\"marital_status\"] == \" Never-married\", \"marital_status\"] = 6"
   ]
  },
  {
   "cell_type": "code",
   "execution_count": 15,
   "metadata": {},
   "outputs": [],
   "source": [
    "#relationship \n",
    "test.loc[test[\"relationship\"] == \" Husband\", \"relationship\"] = 0\n",
    "test.loc[test[\"relationship\"] == \" Wife\", \"relationship\"] = 1\n",
    "test.loc[test[\"relationship\"] == \" Own-child\", \"relationship\"] = 2\n",
    "test.loc[test[\"relationship\"] == \" Unmarried\", \"relationship\"] = 3\n",
    "test.loc[test[\"relationship\"] == \" Not-in-family\", \"relationship\"] = 4\n",
    "test.loc[test[\"relationship\"] == \" Other-relative\", \"relationship\"] = 5"
   ]
  },
  {
   "cell_type": "code",
   "execution_count": 16,
   "metadata": {},
   "outputs": [],
   "source": [
    "#race 膚色越白的越小，越黑的越大\n",
    "test.loc[test[\"race\"] == \" White\", \"race\"] = 0\n",
    "test.loc[test[\"race\"] == \" Asian-Pac-Islander\", \"race\"] = 1\n",
    "test.loc[test[\"race\"] == \" Amer-Indian-Eskimo\", \"race\"] = 2\n",
    "test.loc[test[\"race\"] == \" Black\", \"race\"] = 3\n",
    "test.loc[test[\"race\"] == \" Other\", \"race\"] = 4"
   ]
  },
  {
   "cell_type": "code",
   "execution_count": 17,
   "metadata": {},
   "outputs": [],
   "source": [
    "#sex 男生為1，女生為0\n",
    "test.loc[test[\"sex\"] == \" Male\", \"sex\"] = 1\n",
    "test.loc[test[\"sex\"] == \" Female\", \"sex\"] = 0"
   ]
  },
  {
   "cell_type": "code",
   "execution_count": 18,
   "metadata": {},
   "outputs": [],
   "source": [
    "#將native_country轉成dummy特徵\n",
    "from sklearn import preprocessing\n",
    "label_encoder = preprocessing.LabelEncoder()\n",
    "test['native_country'] = label_encoder.fit_transform(test[\"native_country\"])"
   ]
  },
  {
   "cell_type": "code",
   "execution_count": 19,
   "metadata": {},
   "outputs": [],
   "source": [
    "#將occupation轉成dummy特徵\n",
    "from sklearn import preprocessing\n",
    "label_encoder = preprocessing.LabelEncoder()\n",
    "test['occupation'] = label_encoder.fit_transform(test[\"occupation\"])"
   ]
  },
  {
   "cell_type": "code",
   "execution_count": 24,
   "metadata": {},
   "outputs": [],
   "source": [
    "from sklearn.ensemble import RandomForestClassifier \n",
    "from sklearn.ensemble import RandomForestClassifier\n",
    "from sklearn import datasets\n",
    "from sklearn.model_selection import train_test_split\n",
    "import matplotlib.pyplot as plt\n",
    "import sklearn.metrics as metrics"
   ]
  },
  {
   "cell_type": "code",
   "execution_count": 15,
   "metadata": {},
   "outputs": [
    {
     "data": {
      "text/plain": [
       "'\\nimport sklearn.metrics as metrics\\n\\nk = 10\\nsubset_size = len(test[\"age\"])//k       #設定subset size 即data長度/k\\naccuracy = 0\\ntotal_accuracy = 0\\nfor i in range(k):\\n    #分割\\n    x1,x_test,x3 = np.split(x,[i*subset_size,(i+1)*subset_size]) #x_test為測試集\\n    x_train = np.vstack([x1,x3]) #x_train為訓練集\\n    y1,y_test,y3 = np.split(y,[i*subset_size,(i+1)*subset_size]) #y_test為測試集\\n    y_train = np.vstack([y1,y3]) #y_train為訓練集\\n    #隨機森林\\n    rfc = RandomForestClassifier(n_estimators = 10 )\\n    rfc.fit(x_train,y_train)\\n    #accuracy\\n    y_predict=rfc.predict(x_test)\\n    accuracy = metrics.accuracy_score(y_test, y_predict)\\n    total_accuracy = total_accuracy+accuracy\\n    print(\"accuracy = \",accuracy)\\n    if i == k-1:\\n        final_accuracy = total_accuracy/k\\n        print(\"final_accuracy = \",final_accuracy)\\n'"
      ]
     },
     "execution_count": 15,
     "metadata": {},
     "output_type": "execute_result"
    }
   ],
   "source": [
    "#展開做測試\n",
    "'''\n",
    "import sklearn.metrics as metrics\n",
    "\n",
    "k = 10\n",
    "subset_size = len(test[\"age\"])//k       #設定subset size 即data長度/k\n",
    "accuracy = 0\n",
    "total_accuracy = 0\n",
    "for i in range(k):\n",
    "    #分割\n",
    "    x1,x_test,x3 = np.split(x,[i*subset_size,(i+1)*subset_size]) #x_test為測試集\n",
    "    x_train = np.vstack([x1,x3]) #x_train為訓練集\n",
    "    y1,y_test,y3 = np.split(y,[i*subset_size,(i+1)*subset_size]) #y_test為測試集\n",
    "    y_train = np.vstack([y1,y3]) #y_train為訓練集\n",
    "    #隨機森林\n",
    "    rfc = RandomForestClassifier(n_estimators = 10 )\n",
    "    rfc.fit(x_train,y_train)\n",
    "    #accuracy\n",
    "    y_predict=rfc.predict(x_test)\n",
    "    accuracy = metrics.accuracy_score(y_test, y_predict)\n",
    "    total_accuracy = total_accuracy+accuracy\n",
    "    print(\"accuracy = \",accuracy)\n",
    "    if i == k-1:\n",
    "        final_accuracy = total_accuracy/k\n",
    "        print(\"final_accuracy = \",final_accuracy)\n",
    "'''"
   ]
  },
  {
   "cell_type": "code",
   "execution_count": 34,
   "metadata": {},
   "outputs": [],
   "source": [
    "def K_fold_CV(k,data):\n",
    "    subset_size = len(data)//k       #設定subset size 即data長度/k\n",
    "    each_accurazy = 0                #設定Accuracy初始值\n",
    "    Accuracy = 0\n",
    "    x=test[['age','workclass','fnlwgt','education_num','marital_status','occupation','relationship','race','sex','capital_gain','capital_loss','hours_per_week','native_country']]  #無'Nobility':0.64 #無'Book Intro Chapter':0.66 #'Allegiances','Gender','Nobility','SoS':0.66\n",
    "    y=test[['income']]\n",
    "    x = np.array(x)\n",
    "    y = np.array(y)\n",
    "    for i in range(k):\n",
    "        #分割-設定testing set與training set的資料起始點與結束點\n",
    "        x1,x_test,x3 = np.split(x,[i*subset_size,(i+1)*subset_size]) #x_test為測試集\n",
    "        x_train = np.vstack([x1,x3]) #x_train為訓練集\n",
    "        y1,y_test,y3 = np.split(y,[i*subset_size,(i+1)*subset_size]) #y_test為測試集\n",
    "        y_train = np.vstack([y1,y3]) #y_train為訓練集\n",
    "        #隨機森林-利用training set建立模型\n",
    "        rfc = RandomForestClassifier(n_estimators = 10 )\n",
    "        rfc.fit(x_train,y_train)\n",
    "        #accuracy-testing set計算出Accuracy累加\n",
    "        y_predict=rfc.predict(x_test)\n",
    "        each_accuracy = metrics.accuracy_score(y_test, y_predict)\n",
    "        Accuracy = Accuracy+each_accuracy\n",
    "        if (i == k-1):\n",
    "            return Accuracy/k\n"
   ]
  },
  {
   "cell_type": "code",
   "execution_count": 35,
   "metadata": {},
   "outputs": [
    {
     "name": "stdout",
     "output_type": "stream",
     "text": [
      "請輸入k:10\n"
     ]
    },
    {
     "name": "stderr",
     "output_type": "stream",
     "text": [
      "D:\\anaconda\\lib\\site-packages\\ipykernel_launcher.py:17: DataConversionWarning: A column-vector y was passed when a 1d array was expected. Please change the shape of y to (n_samples,), for example using ravel().\n",
      "D:\\anaconda\\lib\\site-packages\\ipykernel_launcher.py:17: DataConversionWarning: A column-vector y was passed when a 1d array was expected. Please change the shape of y to (n_samples,), for example using ravel().\n",
      "D:\\anaconda\\lib\\site-packages\\ipykernel_launcher.py:17: DataConversionWarning: A column-vector y was passed when a 1d array was expected. Please change the shape of y to (n_samples,), for example using ravel().\n",
      "D:\\anaconda\\lib\\site-packages\\ipykernel_launcher.py:17: DataConversionWarning: A column-vector y was passed when a 1d array was expected. Please change the shape of y to (n_samples,), for example using ravel().\n",
      "D:\\anaconda\\lib\\site-packages\\ipykernel_launcher.py:17: DataConversionWarning: A column-vector y was passed when a 1d array was expected. Please change the shape of y to (n_samples,), for example using ravel().\n",
      "D:\\anaconda\\lib\\site-packages\\ipykernel_launcher.py:17: DataConversionWarning: A column-vector y was passed when a 1d array was expected. Please change the shape of y to (n_samples,), for example using ravel().\n",
      "D:\\anaconda\\lib\\site-packages\\ipykernel_launcher.py:17: DataConversionWarning: A column-vector y was passed when a 1d array was expected. Please change the shape of y to (n_samples,), for example using ravel().\n",
      "D:\\anaconda\\lib\\site-packages\\ipykernel_launcher.py:17: DataConversionWarning: A column-vector y was passed when a 1d array was expected. Please change the shape of y to (n_samples,), for example using ravel().\n",
      "D:\\anaconda\\lib\\site-packages\\ipykernel_launcher.py:17: DataConversionWarning: A column-vector y was passed when a 1d array was expected. Please change the shape of y to (n_samples,), for example using ravel().\n",
      "D:\\anaconda\\lib\\site-packages\\ipykernel_launcher.py:17: DataConversionWarning: A column-vector y was passed when a 1d array was expected. Please change the shape of y to (n_samples,), for example using ravel().\n"
     ]
    },
    {
     "name": "stdout",
     "output_type": "stream",
     "text": [
      "0.8519348894348895\n"
     ]
    }
   ],
   "source": [
    "#k-fold cross-validation\n",
    "k = int(input(\"請輸入k:\"))\n",
    "print(K_fold_CV(k,test))"
   ]
  },
  {
   "cell_type": "code",
   "execution_count": null,
   "metadata": {},
   "outputs": [],
   "source": []
  }
 ],
 "metadata": {
  "kernelspec": {
   "display_name": "Python 3",
   "language": "python",
   "name": "python3"
  },
  "language_info": {
   "codemirror_mode": {
    "name": "ipython",
    "version": 3
   },
   "file_extension": ".py",
   "mimetype": "text/x-python",
   "name": "python",
   "nbconvert_exporter": "python",
   "pygments_lexer": "ipython3",
   "version": "3.7.0"
  }
 },
 "nbformat": 4,
 "nbformat_minor": 2
}
